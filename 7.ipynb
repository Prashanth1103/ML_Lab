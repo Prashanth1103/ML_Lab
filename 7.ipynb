{
 "cells": [
  {
   "cell_type": "code",
   "execution_count": 1,
   "id": "74cfe0e1-e126-4d32-836b-825eace56eea",
   "metadata": {},
   "outputs": [],
   "source": [
    "from sklearn.feature_extraction.text import CountVectorizer\n",
    "from sklearn.model_selection import train_test_split\n",
    "from sklearn.naive_bayes import MultinomialNB\n",
    "from sklearn.metrics import accuracy_score, precision_score, recall_score, confusion_matrix"
   ]
  },
  {
   "cell_type": "code",
   "execution_count": 2,
   "id": "f09274b0-f725-4845-b7c6-5c0fa204cb89",
   "metadata": {},
   "outputs": [],
   "source": [
    "data = [\n",
    "    (\"I love this sandwich\", \"pos\"),\n",
    "    (\"This is an amazing place\", \"pos\"),\n",
    "    (\"I feel very good about these cheese\", \"neutral\"),\n",
    "    (\"This is my best work\", \"pos\"),\n",
    "    (\"What an awesome view\", \"pos\"),\n",
    "    (\"I do not like this restaurant\", \"neg\"),\n",
    "    (\"I am tired of this stuff\", \"neg\"),\n",
    "    (\"I can’t deal with this\", \"neg\"),\n",
    "    (\"He is my sworn enemy\", \"neg\"),\n",
    "    (\"My boss is horrible\", \"neg\"),\n",
    "    (\"This is an awesome place\", \"pos\"),\n",
    "    (\"I do not like the taste of this juice\", \"neg\"),\n",
    "    (\"I love to dance\", \"pos\"),\n",
    "    (\"I am sick and tired of this place\", \"neg\"),\n",
    "    (\"What a great holiday\", \"pos\"),\n",
    "    (\"That is a bad locality to stay\", \"neg\"),\n",
    "    (\"We will have good fun tomorrow\", \"pos\"),\n",
    "    (\"I went to my enemy's house today\", \"neg\")\n",
    "]"
   ]
  },
  {
   "cell_type": "code",
   "execution_count": 3,
   "id": "6fa081f9-05e1-4c98-b598-b797dbf0676a",
   "metadata": {},
   "outputs": [],
   "source": [
    "texts, labels = zip(*data)\n",
    "binary_labels = [1 if label == \"pos\" else 0 for label in labels]\n",
    "texts_train, texts_test, labels_train, labels_test = train_test_split(texts, binary_labels, test_size=0.2, random_state=42)"
   ]
  },
  {
   "cell_type": "code",
   "execution_count": 4,
   "id": "7e3db979-a9af-452d-984e-361c08494c80",
   "metadata": {},
   "outputs": [],
   "source": [
    "vectorizer = CountVectorizer()\n",
    "X_train = vectorizer.fit_transform(texts_train)\n",
    "X_test = vectorizer.transform(texts_test)"
   ]
  },
  {
   "cell_type": "code",
   "execution_count": 5,
   "id": "e48894f0-1bac-4e70-aa26-18d619dacb68",
   "metadata": {},
   "outputs": [],
   "source": [
    "classifier = MultinomialNB()\n",
    "classifier.fit(X_train, labels_train)\n",
    "predictions = classifier.predict(X_test)"
   ]
  },
  {
   "cell_type": "code",
   "execution_count": 6,
   "id": "d1d0f070-ef81-42d7-9bf8-39816668fcc7",
   "metadata": {},
   "outputs": [
    {
     "name": "stdout",
     "output_type": "stream",
     "text": [
      "1. Total Instances of Dataset: 18\n",
      "2. Accuracy: 1.0\n",
      "3. Recall: 1.0\n",
      "4. Precision: 1.0\n",
      "5. Confusion Matrix:\n",
      "[[2 0]\n",
      " [0 2]]\n"
     ]
    }
   ],
   "source": [
    "total_instances = len(texts_test)\n",
    "accuracy = accuracy_score(labels_test, predictions)\n",
    "recall = recall_score(labels_test, predictions)\n",
    "precision = precision_score(labels_test, predictions)\n",
    "conf_matrix = confusion_matrix(labels_test, predictions)\n",
    "\n",
    "print(\"1. Total Instances of Dataset:\", len(data))\n",
    "print(\"2. Accuracy:\", accuracy)\n",
    "print(\"3. Recall:\", recall)\n",
    "print(\"4. Precision:\", precision)\n",
    "print(\"5. Confusion Matrix:\")\n",
    "print(conf_matrix)"
   ]
  }
 ],
 "metadata": {
  "kernelspec": {
   "display_name": "Python 3 (ipykernel)",
   "language": "python",
   "name": "python3"
  },
  "language_info": {
   "codemirror_mode": {
    "name": "ipython",
    "version": 3
   },
   "file_extension": ".py",
   "mimetype": "text/x-python",
   "name": "python",
   "nbconvert_exporter": "python",
   "pygments_lexer": "ipython3",
   "version": "3.10.11"
  }
 },
 "nbformat": 4,
 "nbformat_minor": 5
}
