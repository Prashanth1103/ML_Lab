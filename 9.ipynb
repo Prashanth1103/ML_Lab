{
 "cells": [
  {
   "cell_type": "code",
   "execution_count": 1,
   "id": "b7127e30-fb3d-49b6-b4b7-e7d0e878c408",
   "metadata": {},
   "outputs": [],
   "source": [
    "from sklearn.neighbors import KNeighborsClassifier\n",
    "import numpy as np\n",
    "import pandas as pd\n",
    "import matplotlib.pyplot as plt\n",
    "from sklearn.model_selection import train_test_split\n",
    "from sklearn.metrics import accuracy_score"
   ]
  },
  {
   "cell_type": "code",
   "execution_count": 2,
   "id": "f6a61714-33b0-4f01-b77a-3d81ad66a1e8",
   "metadata": {},
   "outputs": [],
   "source": [
    "data = pd.DataFrame(data = pd.read_csv(r'C:\\users\\prash\\downloads\\iris.csv'))"
   ]
  },
  {
   "cell_type": "code",
   "execution_count": 3,
   "id": "1c13b8c8-d7d9-47eb-84e0-09ec16feae5a",
   "metadata": {},
   "outputs": [
    {
     "name": "stdout",
     "output_type": "stream",
     "text": [
      "   sepal_length  sepal_width  petal_length  petal_width species\n",
      "0           5.1          3.5           1.4          0.2  setosa\n",
      "1           4.9          3.0           1.4          0.2  setosa\n",
      "2           4.7          3.2           1.3          0.2  setosa\n",
      "3           4.6          3.1           1.5          0.2  setosa\n",
      "4           5.0          3.6           1.4          0.2  setosa\n"
     ]
    }
   ],
   "source": [
    "print(data.head())"
   ]
  },
  {
   "cell_type": "code",
   "execution_count": 4,
   "id": "790f6108-668b-447b-b73f-eb61da5acb2b",
   "metadata": {},
   "outputs": [],
   "source": [
    "X=data.drop([\"species\"],axis=1)\n",
    "y=data[\"species\"]\n",
    "X_train,X_test,y_train,y_test=train_test_split(X,y,test_size=0.2,random_state=15)"
   ]
  },
  {
   "cell_type": "code",
   "execution_count": 5,
   "id": "cd165c16-c13c-498a-9273-c107147a9bd5",
   "metadata": {},
   "outputs": [
    {
     "name": "stdout",
     "output_type": "stream",
     "text": [
      "['setosa' 'versicolor' 'versicolor' 'setosa' 'setosa' 'versicolor'\n",
      " 'virginica' 'versicolor' 'versicolor' 'virginica' 'virginica'\n",
      " 'versicolor' 'versicolor' 'versicolor' 'virginica' 'setosa' 'versicolor'\n",
      " 'virginica' 'setosa' 'virginica' 'versicolor' 'setosa' 'versicolor'\n",
      " 'versicolor' 'setosa' 'setosa' 'virginica' 'virginica' 'virginica'\n",
      " 'versicolor']\n",
      "the accuracy is : 1.0\n"
     ]
    }
   ],
   "source": [
    "model=KNeighborsClassifier()\n",
    "model.fit(X,y)\n",
    "y_pred=model.predict(X_test)\n",
    "print(y_pred)\n",
    "a=accuracy_score(y_test,y_pred)\n",
    "print(f\"the accuracy is : {a}\")"
   ]
  },
  {
   "cell_type": "code",
   "execution_count": null,
   "id": "0fe4670a-3c17-49f5-a093-d3ee8a2c20bc",
   "metadata": {},
   "outputs": [],
   "source": []
  }
 ],
 "metadata": {
  "kernelspec": {
   "display_name": "Python 3 (ipykernel)",
   "language": "python",
   "name": "python3"
  },
  "language_info": {
   "codemirror_mode": {
    "name": "ipython",
    "version": 3
   },
   "file_extension": ".py",
   "mimetype": "text/x-python",
   "name": "python",
   "nbconvert_exporter": "python",
   "pygments_lexer": "ipython3",
   "version": "3.10.11"
  }
 },
 "nbformat": 4,
 "nbformat_minor": 5
}
