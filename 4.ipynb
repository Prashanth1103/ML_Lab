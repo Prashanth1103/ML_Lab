{
 "cells": [
  {
   "cell_type": "code",
   "execution_count": 1,
   "id": "9f6bc943-c798-4378-b7fd-94d712ae5454",
   "metadata": {},
   "outputs": [],
   "source": [
    "import pandas as pd"
   ]
  },
  {
   "cell_type": "code",
   "execution_count": 2,
   "id": "4262b98a-2fb8-49a4-8bca-b5c412aa7b6c",
   "metadata": {},
   "outputs": [
    {
     "name": "stdout",
     "output_type": "stream",
     "text": [
      "Data is : \n",
      "\n",
      "      sky air_temp humidity    wind water forecast enjoy_sport\n",
      "0  sunny     warm   normal  strong  warm     same         yes\n",
      "1  sunny     warm     high  strong  warm     same         yes\n",
      "2  rainy     cold     high  strong  warm   change          no\n",
      "3  sunny     warm     high  strong  cool   change         yes\n",
      "\n",
      " ****************************************************************************************************\n",
      "Shape of dataset is :  (4, 7) \n",
      "\n"
     ]
    }
   ],
   "source": [
    "df = pd.read_csv(r'C:\\Users\\prash\\Downloads\\enjoysport.csv')\n",
    "print(\"Data is : \\n\\n\", df)\n",
    "print(\"\\n\", \"*\"*100)\n",
    "print(\"Shape of dataset is : \", df.shape, \"\\n\")"
   ]
  },
  {
   "cell_type": "code",
   "execution_count": 3,
   "id": "7723a710-dfa8-4ae2-b16a-e99a36917205",
   "metadata": {},
   "outputs": [],
   "source": [
    "n = 6\n",
    "a = []\n",
    "for i in range(len(df)):\n",
    "    a.append(df.iloc[i].tolist())"
   ]
  },
  {
   "cell_type": "code",
   "execution_count": 4,
   "id": "58b4dfa6-b943-43f5-a033-3ada820be692",
   "metadata": {},
   "outputs": [
    {
     "name": "stdout",
     "output_type": "stream",
     "text": [
      "\n",
      "Most Specific Hypothesis is :  ['sunny', 'warm', 'normal', 'strong', 'warm', 'same']\n"
     ]
    }
   ],
   "source": [
    "hypo = ['0'] * n\n",
    "for i in range(0, n):\n",
    "    hypo[i] = a[0][i]\n",
    "\n",
    "print(\"\\nMost Specific Hypothesis is : \", hypo)"
   ]
  },
  {
   "cell_type": "code",
   "execution_count": 5,
   "id": "b4eb728c-8bd5-45ed-9e47-346ad8badb15",
   "metadata": {},
   "outputs": [
    {
     "name": "stdout",
     "output_type": "stream",
     "text": [
      "\n",
      "For Training instance 1, The hypothesis is : \n",
      "['sunny', 'warm', 'normal', 'strong', 'warm', 'same']\n",
      "\n",
      "\n",
      "For Training instance 2, The hypothesis is : \n",
      "['sunny', 'warm', '?', 'strong', 'warm', 'same']\n",
      "\n",
      "\n",
      "For Training instance 3, The hypothesis is : \n",
      "['sunny', 'warm', '?', 'strong', 'warm', 'change']\n",
      "\n",
      "\n",
      "For Training instance 4, The hypothesis is : \n",
      "['sunny', 'warm', '?', 'strong', '?', 'change']\n",
      "\n",
      "The maximally specific hypothesis is : \n",
      "['sunny', 'warm', '?', 'strong', '?', 'change']\n"
     ]
    }
   ],
   "source": [
    "for i in range(len(a)):\n",
    "    if a[i][n] == \"yes\":\n",
    "        for j in range(0, n):\n",
    "            if a[i][j] != hypo[j]:\n",
    "                hypo[j] = '?'\n",
    "    else:\n",
    "        hypo[j] = a[i][j]\n",
    "    print(f\"\\nFor Training instance {i+1}, The hypothesis is : \\n{hypo}\\n\")\n",
    "\n",
    "print(f\"The maximally specific hypothesis is : \\n{hypo}\")"
   ]
  },
  {
   "cell_type": "code",
   "execution_count": null,
   "id": "2bdf84a9-887a-4e60-a825-cca6dec7f852",
   "metadata": {},
   "outputs": [],
   "source": []
  }
 ],
 "metadata": {
  "kernelspec": {
   "display_name": "Python 3 (ipykernel)",
   "language": "python",
   "name": "python3"
  },
  "language_info": {
   "codemirror_mode": {
    "name": "ipython",
    "version": 3
   },
   "file_extension": ".py",
   "mimetype": "text/x-python",
   "name": "python",
   "nbconvert_exporter": "python",
   "pygments_lexer": "ipython3",
   "version": "3.10.11"
  }
 },
 "nbformat": 4,
 "nbformat_minor": 5
}
